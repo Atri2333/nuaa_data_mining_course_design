{
 "cells": [
  {
   "cell_type": "code",
   "execution_count": 2,
   "metadata": {},
   "outputs": [
    {
     "name": "stdout",
     "output_type": "stream",
     "text": [
      "(224, 224, 3)\n",
      "(26244,)\n"
     ]
    }
   ],
   "source": [
    "# used for traditional ml\n",
    "from skimage.io import imshow\n",
    "from skimage.transform import resize\n",
    "from skimage.feature import hog\n",
    "from skimage import exposure\n",
    "import matplotlib.pyplot as plt\n",
    "import cv2\n",
    "\n",
    "def getHOG(img):\n",
    "    gray = cv2.cvtColor(img, cv2.COLOR_BGR2GRAY)\n",
    "    resized_img = resize(gray, (224, 224))\n",
    "    # resized_img /= 255.0\n",
    "    # imshow(resized_img)\n",
    "    fd, hog_image = hog(resized_img, orientations=9, pixels_per_cell=(8, 8), \n",
    "                    cells_per_block=(2, 2), visualize=True, block_norm=\"L2\")\n",
    "    return fd, hog_image\n",
    "\n",
    "def getSIFT(img):\n",
    "    gray = cv2.cvtColor(img, cv2.COLOR_BGR2GRAY)\n",
    "    resized_img = resize(gray, (64, 64))\n",
    "    resized_img = cv2.normalize(resized_img, None, 0, 255, cv2.NORM_MINMAX).astype(\"uint8\")\n",
    "    sift = cv2.SIFT_create()\n",
    "    _, des = sift.detectAndCompute(resized_img, None)\n",
    "    return des\n",
    "\n",
    "def getORB(img):\n",
    "    gray = cv2.cvtColor(img, cv2.COLOR_BGR2GRAY)\n",
    "    resized_img = resize(gray, (224, 224))\n",
    "    resized_img = cv2.normalize(resized_img, None, 0, 255, cv2.NORM_MINMAX).astype(\"uint8\")\n",
    "    orb = cv2.ORB_create()\n",
    "    _, des = orb.detectAndCompute(resized_img, None)\n",
    "    return des\n",
    "\n",
    "# print(\"!\")\n",
    "img = cv2.imread(\"images/200.jpg\")\n",
    "print(img.shape)\n",
    "fd, h = getHOG(img)\n",
    "print(fd.shape)"
   ]
  },
  {
   "cell_type": "code",
   "execution_count": 9,
   "metadata": {},
   "outputs": [
    {
     "name": "stdout",
     "output_type": "stream",
     "text": [
      "[[2 2 2]\n",
      " [3 3 3]\n",
      " [4 4 4]\n",
      " [5 5 5]]\n",
      "[[1 1 1]\n",
      " [3 3 3]\n",
      " [4 4 4]\n",
      " [5 5 5]]\n",
      "[[1 1 1]\n",
      " [2 2 2]\n",
      " [4 4 4]\n",
      " [5 5 5]]\n",
      "[[1 1 1]\n",
      " [2 2 2]\n",
      " [3 3 3]\n",
      " [5 5 5]]\n",
      "[[1 1 1]\n",
      " [2 2 2]\n",
      " [3 3 3]\n",
      " [4 4 4]]\n"
     ]
    }
   ],
   "source": [
    "from sklearn.model_selection  import cross_val_score\n",
    "import matplotlib.pyplot as plt\n",
    "from sklearn.neighbors import KNeighborsClassifier\n",
    "from sklearn.model_selection import KFold\n",
    "from sklearn.metrics import accuracy_score\n",
    "\n",
    "from sklearn.datasets import load_iris\n",
    "import feature_extraction\n",
    "from utils import *\n",
    "import numpy as np\n",
    "\n",
    "KF = KFold(n_splits=5)\n",
    "X = [[1, 1, 1], [2, 2, 2], [3, 3, 3], [4, 4, 4], [5, 5, 5]]\n",
    "\n",
    "for train_index, test_index in KF.split(X):\n",
    "    # print(train_index)\n",
    "    X_train = np.array(X)[train_index]\n",
    "    print(X_train)\n"
   ]
  },
  {
   "cell_type": "code",
   "execution_count": null,
   "metadata": {},
   "outputs": [],
   "source": []
  }
 ],
 "metadata": {
  "kernelspec": {
   "display_name": "pytorch",
   "language": "python",
   "name": "python3"
  },
  "language_info": {
   "codemirror_mode": {
    "name": "ipython",
    "version": 3
   },
   "file_extension": ".py",
   "mimetype": "text/x-python",
   "name": "python",
   "nbconvert_exporter": "python",
   "pygments_lexer": "ipython3",
   "version": "3.8.16"
  },
  "orig_nbformat": 4,
  "vscode": {
   "interpreter": {
    "hash": "c35754eae11bacfc25d74a7e7950ef852d105bdb6df580ef789e2ccadfef11e3"
   }
  }
 },
 "nbformat": 4,
 "nbformat_minor": 2
}
